{
 "cells": [
  {
   "cell_type": "code",
   "execution_count": 1,
   "id": "3b1593a6",
   "metadata": {},
   "outputs": [],
   "source": [
    "import numpy as np\n",
    "import pandas as pd\n",
    "from PIL import Image"
   ]
  },
  {
   "cell_type": "markdown",
   "id": "c7bb694f",
   "metadata": {},
   "source": [
    "# Создание базы данных"
   ]
  },
  {
   "cell_type": "code",
   "execution_count": 2,
   "id": "6057f7df",
   "metadata": {},
   "outputs": [],
   "source": [
    "comp_citrus = [['лимонен',0.75],['линалоол', 0.15], ['цитраль', 0.09], ['дифенилметан', 0.05]]\n",
    "comp_floral = [['бензилацетат', 0.4], ['терпинилацетат', 0.2], ['деканаль', 0.2]]\n",
    "comp_fruity = [['монотерпены', 0.45],['изоамилацетат', 0.85], ['этилбутират', 0.2], ['сесквитерпены', 0.09]]\n",
    "comp_nutty =  [['линолевая кислота', 0.6], ['олеиновая кислота',0.2], ['пальмитиновая кислота', 0.1]]\n",
    "comp_vegetable = [['фурфунол', 0.5], ['бензальдегид', 0.2], ['альдегид', 0.2], ['н-гексанол', 0.05]]\n",
    "comp_grassy = [['цис-3-гексенилацетат', 0.4], ['цис-3-гексеналь', 0.2], ['метанол', 0.1], ['транс-2-гексеналь', 0.08]]\n",
    "comp_woody = [['1-бутан', 0.4], ['бензальдегид', 0.3], ['1,2-метил-пропан', 0.2]]"
   ]
  },
  {
   "cell_type": "code",
   "execution_count": 3,
   "id": "d81226bc",
   "metadata": {},
   "outputs": [],
   "source": [
    "db = [\n",
    "    ['Цитрусовый', comp_citrus, 720], \n",
    "    ['Цветочный', comp_floral, 615],\n",
    "    ['Фруктовый', comp_fruity, 570],\n",
    "    ['Ореховый', comp_nutty, 510],\n",
    "    ['Овощной', comp_vegetable, 470],\n",
    "    ['Травянистый', comp_grassy, 445],\n",
    "    ['Древесный', comp_woody, 410]]"
   ]
  },
  {
   "cell_type": "code",
   "execution_count": 4,
   "id": "045914a5",
   "metadata": {},
   "outputs": [
    {
     "data": {
      "text/plain": [
       "[['Цитрусовый',\n",
       "  [['лимонен', 0.75],\n",
       "   ['линалоол', 0.15],\n",
       "   ['цитраль', 0.09],\n",
       "   ['дифенилметан', 0.05]],\n",
       "  720],\n",
       " ['Цветочный',\n",
       "  [['бензилацетат', 0.4], ['терпинилацетат', 0.2], ['деканаль', 0.2]],\n",
       "  615],\n",
       " ['Фруктовый',\n",
       "  [['монотерпены', 0.45],\n",
       "   ['изоамилацетат', 0.85],\n",
       "   ['этилбутират', 0.2],\n",
       "   ['сесквитерпены', 0.09]],\n",
       "  570],\n",
       " ['Ореховый',\n",
       "  [['линолевая кислота', 0.6],\n",
       "   ['олеиновая кислота', 0.2],\n",
       "   ['пальмитиновая кислота', 0.1]],\n",
       "  510],\n",
       " ['Овощной',\n",
       "  [['фурфунол', 0.5],\n",
       "   ['бензальдегид', 0.2],\n",
       "   ['альдегид', 0.2],\n",
       "   ['н-гексанол', 0.05]],\n",
       "  470],\n",
       " ['Травянистый',\n",
       "  [['цис-3-гексенилацетат', 0.4],\n",
       "   ['цис-3-гексеналь', 0.2],\n",
       "   ['метанол', 0.1],\n",
       "   ['транс-2-гексеналь', 0.08]],\n",
       "  445],\n",
       " ['Древесный',\n",
       "  [['1-бутан', 0.4], ['бензальдегид', 0.3], ['1,2-метил-пропан', 0.2]],\n",
       "  410]]"
      ]
     },
     "execution_count": 4,
     "metadata": {},
     "output_type": "execute_result"
    }
   ],
   "source": [
    "db"
   ]
  },
  {
   "cell_type": "code",
   "execution_count": 5,
   "id": "657aa389",
   "metadata": {},
   "outputs": [
    {
     "data": {
      "text/html": [
       "<div>\n",
       "<style scoped>\n",
       "    .dataframe tbody tr th:only-of-type {\n",
       "        vertical-align: middle;\n",
       "    }\n",
       "\n",
       "    .dataframe tbody tr th {\n",
       "        vertical-align: top;\n",
       "    }\n",
       "\n",
       "    .dataframe thead th {\n",
       "        text-align: right;\n",
       "    }\n",
       "</style>\n",
       "<table border=\"1\" class=\"dataframe\">\n",
       "  <thead>\n",
       "    <tr style=\"text-align: right;\">\n",
       "      <th></th>\n",
       "      <th>Название базового запаха</th>\n",
       "      <th>Состав</th>\n",
       "      <th>Длина волны</th>\n",
       "    </tr>\n",
       "  </thead>\n",
       "  <tbody>\n",
       "    <tr>\n",
       "      <th>0</th>\n",
       "      <td>Цитрусовый</td>\n",
       "      <td>[[лимонен, 0.75], [линалоол, 0.15], [цитраль, ...</td>\n",
       "      <td>720</td>\n",
       "    </tr>\n",
       "    <tr>\n",
       "      <th>1</th>\n",
       "      <td>Цветочный</td>\n",
       "      <td>[[бензилацетат, 0.4], [терпинилацетат, 0.2], [...</td>\n",
       "      <td>615</td>\n",
       "    </tr>\n",
       "    <tr>\n",
       "      <th>2</th>\n",
       "      <td>Фруктовый</td>\n",
       "      <td>[[монотерпены, 0.45], [изоамилацетат, 0.85], [...</td>\n",
       "      <td>570</td>\n",
       "    </tr>\n",
       "    <tr>\n",
       "      <th>3</th>\n",
       "      <td>Ореховый</td>\n",
       "      <td>[[линолевая кислота, 0.6], [олеиновая кислота,...</td>\n",
       "      <td>510</td>\n",
       "    </tr>\n",
       "    <tr>\n",
       "      <th>4</th>\n",
       "      <td>Овощной</td>\n",
       "      <td>[[фурфунол, 0.5], [бензальдегид, 0.2], [альдег...</td>\n",
       "      <td>470</td>\n",
       "    </tr>\n",
       "    <tr>\n",
       "      <th>5</th>\n",
       "      <td>Травянистый</td>\n",
       "      <td>[[цис-3-гексенилацетат, 0.4], [цис-3-гексеналь...</td>\n",
       "      <td>445</td>\n",
       "    </tr>\n",
       "    <tr>\n",
       "      <th>6</th>\n",
       "      <td>Древесный</td>\n",
       "      <td>[[1-бутан, 0.4], [бензальдегид, 0.3], [1,2-мет...</td>\n",
       "      <td>410</td>\n",
       "    </tr>\n",
       "  </tbody>\n",
       "</table>\n",
       "</div>"
      ],
      "text/plain": [
       "  Название базового запаха                                             Состав  \\\n",
       "0               Цитрусовый  [[лимонен, 0.75], [линалоол, 0.15], [цитраль, ...   \n",
       "1                Цветочный  [[бензилацетат, 0.4], [терпинилацетат, 0.2], [...   \n",
       "2                Фруктовый  [[монотерпены, 0.45], [изоамилацетат, 0.85], [...   \n",
       "3                 Ореховый  [[линолевая кислота, 0.6], [олеиновая кислота,...   \n",
       "4                  Овощной  [[фурфунол, 0.5], [бензальдегид, 0.2], [альдег...   \n",
       "5              Травянистый  [[цис-3-гексенилацетат, 0.4], [цис-3-гексеналь...   \n",
       "6                Древесный  [[1-бутан, 0.4], [бензальдегид, 0.3], [1,2-мет...   \n",
       "\n",
       "   Длина волны  \n",
       "0          720  \n",
       "1          615  \n",
       "2          570  \n",
       "3          510  \n",
       "4          470  \n",
       "5          445  \n",
       "6          410  "
      ]
     },
     "execution_count": 5,
     "metadata": {},
     "output_type": "execute_result"
    }
   ],
   "source": [
    "pd.DataFrame(db, columns=[\"Название базового запаха\", \"Состав\", \"Длина волны\"])"
   ]
  },
  {
   "cell_type": "code",
   "execution_count": 6,
   "id": "09a888b1",
   "metadata": {},
   "outputs": [
    {
     "data": {
      "text/plain": [
       "[[['лимонен', 0.75],\n",
       "  ['линалоол', 0.15],\n",
       "  ['цитраль', 0.09],\n",
       "  ['дифенилметан', 0.05]],\n",
       " [['бензилацетат', 0.4], ['терпинилацетат', 0.2], ['деканаль', 0.2]],\n",
       " [['монотерпены', 0.45],\n",
       "  ['изоамилацетат', 0.85],\n",
       "  ['этилбутират', 0.2],\n",
       "  ['сесквитерпены', 0.09]],\n",
       " [['линолевая кислота', 0.6],\n",
       "  ['олеиновая кислота', 0.2],\n",
       "  ['пальмитиновая кислота', 0.1]],\n",
       " [['фурфунол', 0.5],\n",
       "  ['бензальдегид', 0.2],\n",
       "  ['альдегид', 0.2],\n",
       "  ['н-гексанол', 0.05]],\n",
       " [['цис-3-гексенилацетат', 0.4],\n",
       "  ['цис-3-гексеналь', 0.2],\n",
       "  ['метанол', 0.1],\n",
       "  ['транс-2-гексеналь', 0.08]],\n",
       " [['1-бутан', 0.4], ['бензальдегид', 0.3], ['1,2-метил-пропан', 0.2]]]"
      ]
     },
     "execution_count": 6,
     "metadata": {},
     "output_type": "execute_result"
    }
   ],
   "source": [
    "odors = [comp_citrus, comp_floral, comp_fruity, comp_nutty, comp_vegetable, comp_grassy, comp_woody]\n",
    "odors"
   ]
  },
  {
   "cell_type": "code",
   "execution_count": 7,
   "id": "058c0ab6",
   "metadata": {},
   "outputs": [
    {
     "name": "stdout",
     "output_type": "stream",
     "text": [
      "изоамилацетат - Фруктовый - 0.85 (b* базового) 0.89 (b* вводимого) 0.040000000000000036 (эпслнт)\n"
     ]
    }
   ],
   "source": [
    "### Это для красивого вывода тебе, чтоб понимать, потом удали\n",
    "\n",
    "#inpt = [['лимонен', 0.8], ['этилбутират', 0.11],['линалоол', 0.03]] #апельсин\n",
    "inpt = [['изоамилацетат', 0.89]] \n",
    "\n",
    "for odor in range(len(odors)):\n",
    "    for sub_baze in range(len(odors[odor])):\n",
    "        for sub_inpt in range(len(inpt)):\n",
    "            if odors[odor][sub_baze][0] == inpt[sub_inpt][0]:\n",
    "                for k in range(len(db)):\n",
    "                    #print(db[k][1])\n",
    "                    #print(odors[odor])\n",
    "                    if odors[odor] == db[k][1]:\n",
    "                        print(inpt[sub_inpt][0], '-', db[k][0],'-', odors[odor][sub_baze][1], '(b* базового)', inpt[sub_inpt][1], '(b* вводимого)',\n",
    "                              str(abs((odors[odor][sub_baze][1]-inpt[sub_inpt][1]))), '(эпслнт)')"
   ]
  },
  {
   "cell_type": "markdown",
   "id": "a101d4a6",
   "metadata": {},
   "source": [
    "# Выполнение программы"
   ]
  },
  {
   "cell_type": "code",
   "execution_count": 8,
   "id": "1cc62825",
   "metadata": {},
   "outputs": [],
   "source": [
    "def comperrison(inpt):\n",
    "    eps = 0.1\n",
    "    message = 0\n",
    "    for odor in range(len(odors)):  #Тут перебор по базовым запахам\n",
    "        for sub_baze in range(len(odors[odor])): #Тут перебор по веществам в базовом запахе\n",
    "            for sub_inpt in range(len(inpt)):   #Тут перебор по вещесвам в вводимом запахе\n",
    "                if odors[odor][sub_baze][0] == inpt[sub_inpt][0]:  #Тут сравнение веществ\n",
    "                    for k in range(len(db)): #Тут перебор по базе данных для поиска длины волны\n",
    "                        if odors[odor] == db[k][1]:\n",
    "                            if (abs((odors[odor][sub_baze][1]-inpt[sub_inpt][1])) < eps): #Тут проверем эплснт\n",
    "                                message += db[k][2] * inpt[sub_inpt][1] #Тут формула с суммой которая\n",
    "    return(message)\n",
    "\n"
   ]
  },
  {
   "cell_type": "code",
   "execution_count": 9,
   "id": "3d5cae42",
   "metadata": {},
   "outputs": [],
   "source": [
    "def wav2RGB(wavelength):\n",
    "    w = int(wavelength)\n",
    "\n",
    " # colour\n",
    "    if w >= 390 and w < 430:\n",
    "        R = -(w - 430.) / (430. - 390.)\n",
    "        G = 0.0\n",
    "        B = 1.0\n",
    "    elif w >= 440 and w < 455:\n",
    "        R = -(w - 455.) / (455. - 440.)\n",
    "        G = 0.0\n",
    "        B = (w - 455.) / (455. - 440.)\n",
    "    elif w >= 455 and w < 485:\n",
    "        R = 0.0\n",
    "        G = (w - 455.) / (485. - 455.)\n",
    "        B = 1.0\n",
    "    elif w >= 485 and w < 535:\n",
    "        R = 0.0\n",
    "        G = 1.0\n",
    "        B = -(w - 535.) / (535. - 485.)\n",
    "    elif w >= 535 and w < 580:\n",
    "        R = 1#(w - 535.) / (580. - 535.)\n",
    "        G = 1.0\n",
    "        B = 0.0\n",
    "    elif w >= 580 and w < 640:\n",
    "        R = 1.0\n",
    "        G = -(w - 640.) / (640. - 590.)\n",
    "        B = 0.0\n",
    "    elif w >= 650 and w <= 800:\n",
    "        R = 1.0\n",
    "        G = 0.0\n",
    "        B = 0.0\n",
    "    else:\n",
    "        R = 0.0\n",
    "        G = 0.0\n",
    "        B = 0.0\n",
    "\n",
    "    SSS = 255\n",
    "    return [int(SSS*R), int(SSS*G), int(SSS*B)]\n"
   ]
  },
  {
   "cell_type": "code",
   "execution_count": 10,
   "id": "ef96744d",
   "metadata": {},
   "outputs": [
    {
     "name": "stdout",
     "output_type": "stream",
     "text": [
      "638.7\n"
     ]
    },
    {
     "data": {
      "image/png": "[encoded data removed]",
      "text/plain": [
       "<PIL.Image.Image image mode=RGB size=100x100>"
      ]
     },
     "execution_count": 10,
     "metadata": {},
     "output_type": "execute_result"
    }
   ],
   "source": [
    "#Анализатор передал словесно запах апельсина на компьютер\n",
    "inpt = [['лимонен', 0.8], ['этилбутират', 0.11],['линалоол', 0.03]] \n",
    "\n",
    "#Сравнение с базовыми запахами и сохранение информации\n",
    "info = comperrison(inpt)\n",
    "print(info)\n",
    "#Потом тип передаем эту информацию\n",
    "#(Можно вставить какую-нибудь красивую картиночку)\n",
    "\n",
    "#Вывод запаха в виде цвета\n",
    "new_img = Image.new('RGB', (100, 100), tuple(wav2RGB(info)))\n",
    "new_img\n",
    "\n",
    "#Восстановление запаха"
   ]
  },
  {
   "cell_type": "code",
   "execution_count": 11,
   "id": "b372dafc",
   "metadata": {},
   "outputs": [
    {
     "name": "stdout",
     "output_type": "stream",
     "text": [
      "541.5\n"
     ]
    },
    {
     "data": {
      "image/png": "[encoded data removed]",
      "text/plain": [
       "<PIL.Image.Image image mode=RGB size=100x100>"
      ]
     },
     "execution_count": 11,
     "metadata": {},
     "output_type": "execute_result"
    }
   ],
   "source": [
    "#Анализатор передал словесно запах банана на компьютер\n",
    "inpt = [['изоамилацетат', 0.95]] \n",
    "\n",
    "#Сравнение с базовыми запахами и сохранение информации\n",
    "info = comperrison(inpt)\n",
    "print(info)\n",
    "\n",
    "#Потом тип передаем эту информацию\n",
    "#(Можно вставить какую-нибудь красивую картиночку)\n",
    "\n",
    "#Вывод запаха в виде цвета\n",
    "new_img = Image.new('RGB', (100, 100), tuple(wav2RGB(info)))\n",
    "new_img\n",
    "\n",
    "#Восстановление запаха"
   ]
  }
 ],
 "metadata": {
  "kernelspec": {
   "display_name": "Python 3 (ipykernel)",
   "language": "python",
   "name": "python3"
  },
  "language_info": {
   "codemirror_mode": {
    "name": "ipython",
    "version": 3
   },
   "file_extension": ".py",
   "mimetype": "text/x-python",
   "name": "python",
   "nbconvert_exporter": "python",
   "pygments_lexer": "ipython3",
   "version": "3.9.10"
  }
 },
 "nbformat": 4,
 "nbformat_minor": 5
}
